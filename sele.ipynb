{
 "cells": [
  {
   "cell_type": "code",
   "execution_count": 6,
   "id": "c5e4dd2f",
   "metadata": {},
   "outputs": [
    {
     "name": "stdout",
     "output_type": "stream",
     "text": [
      "suppotiry@gmail.com systemsystem\n",
      "Driver session is still active. You can continue coding and interacting with the browser.\n"
     ]
    }
   ],
   "source": [
    "import os     \n",
    "import time\n",
    "import json\n",
    "from selenium import webdriver     \n",
    "from selenium.webdriver.common.by import By     \n",
    "from selenium.webdriver.support.ui import WebDriverWait     \n",
    "from selenium.webdriver.support import expected_conditions as EC     \n",
    "from webdriver_manager.chrome import ChromeDriverManager     \n",
    "from selenium.webdriver.chrome.service import Service     \n",
    "from selenium.webdriver.chrome.options import Options     \n",
    "from dotenv import load_dotenv  \n",
    "from selenium.webdriver.common.keys import Keys\n",
    "\n",
    "    \n",
    "# Load credentials from .env or environment     \n",
    "load_dotenv()     \n",
    "EMAIL = os.getenv('LINKEDIN_EMAIL')     \n",
    "PASSWORD = os.getenv('LINKEDIN_PASSWORD')   \n",
    "print(EMAIL, PASSWORD)  \n",
    "if not EMAIL or not PASSWORD:     \n",
    "    raise SystemExit('Set LINKEDIN_EMAIL and LINKEDIN_PASSWORD in env')     \n",
    "    \n",
    "# Chrome options (disable headless while developing because LinkedIn blocks headless sometimes)     \n",
    "opts = Options()     \n",
    "# opts.add_argument('--headless=new')   # enable later if needed\n",
    "opts.add_argument('--no-sandbox')\n",
    "opts.add_argument('--disable-dev-shm-usage')\n",
    "opts.add_argument('--window-size=650,800') \n",
    "\n",
    "service = Service(ChromeDriverManager().install())\n",
    "driver = webdriver.Chrome(service=service, options=opts)\n",
    "wait = WebDriverWait(driver, 15)\n",
    "\n",
    "try:\n",
    "    driver.get('https://www.linkedin.com')\n",
    "    time.sleep(3)  # wait for page to load  \n",
    "    #now click on sign in button\n",
    "    wait.until(EC.element_to_be_clickable((By.LINK_TEXT, 'Sign in'))).click()\n",
    "    # Login\n",
    "    wait.until(EC.presence_of_element_located((By.ID, 'username'))).send_keys(EMAIL)\n",
    "    time.sleep(1.50)\n",
    "    driver.find_element(By.ID, 'password').send_keys(PASSWORD)\n",
    "    wait.until(\n",
    "        EC.element_to_be_clickable(\n",
    "            (By.XPATH, \"//button[.//span[normalize-space(text())='Sign in'] or normalize-space(.)='Sign in']\")\n",
    "        )\n",
    "    ).click()\n",
    "\n",
    "    input(\"Press Enter after you've completed any 2FA if prompted...\")\n",
    "\n",
    "    \n",
    "except Exception as e:\n",
    "    print(\"An error occurred:\", e)\n",
    "print(\"Driver session is still active. You can continue coding and interacting with the browser.\")"
   ]
  },
  {
   "cell_type": "code",
   "execution_count": 7,
   "id": "b5da1ba8",
   "metadata": {},
   "outputs": [],
   "source": [
    "## we will click search and then search for the keyword entered \n",
    "# keyword = input(\"enter the keyword for the people you want to search for : \")\n",
    "keyword = \"data scientist\"\n",
    "#class=\"search-global-typeahead search-global-typeahead--semantic-rounded-search-box\n",
    "#         global-nav__search-typeahead\"\n",
    "wait.until(EC.element_to_be_clickable((By.CSS_SELECTOR, \"button.search-global-typeahead__collapsed-search-button\"))).click()\n",
    "search_box = wait.until(EC.visibility_of_element_located(\n",
    "    (By.CSS_SELECTOR, \"input.search-global-typeahead__input[aria-label='Search']\")))\n",
    "search_box.clear()\n",
    "search_box.send_keys(keyword)\n",
    "search_box.send_keys(Keys.ENTER)"
   ]
  },
  {
   "cell_type": "code",
   "execution_count": 8,
   "id": "97d53282",
   "metadata": {},
   "outputs": [
    {
     "name": "stdout",
     "output_type": "stream",
     "text": [
      "clicked on people filter\n"
     ]
    }
   ],
   "source": [
    "wait.until(EC.presence_of_element_located((By.CLASS_NAME, \"search-reusables__filter-list\")))\n",
    "listy = driver.find_elements(By.CLASS_NAME, \"search-reusables__primary-filter\")\n",
    "for i in listy:\n",
    "    button = i.find_element(By.TAG_NAME, \"button\")\n",
    "    if button.text.strip().lower() == \"people\":\n",
    "        button.click()\n",
    "        print(\"clicked on people filter\")\n",
    "        break"
   ]
  },
  {
   "cell_type": "code",
   "execution_count": 9,
   "id": "45a84225",
   "metadata": {},
   "outputs": [
    {
     "name": "stdout",
     "output_type": "stream",
     "text": [
      "LinkedIn Member Aspiring Entry-Level Data Scientist | Passionate About Machine Learning, NLP, and AI-Driven Solutions https://www.linkedin.com/search/results/people/headless?origin=SWITCH_SEARCH_VERTICAL&keywords=data%20scientist\n",
      "LinkedIn Member Data Scientist https://www.linkedin.com/search/results/people/headless?origin=SWITCH_SEARCH_VERTICAL&keywords=data%20scientist\n",
      "Daniel Paul\n",
      "View Daniel Paul’s profile Data Scientist | M. Tech @ HITS | Analyzing Data for Insights https://www.linkedin.com/in/dannny?miniProfileUrn=urn%3Ali%3Afs_miniProfile%3AACoAAESbOVoBU7DUSTeM11RoxVM3ghU2ytbZtXM\n",
      "LinkedIn Member Senior Data Scientist at Hexaware https://www.linkedin.com/search/results/people/headless?origin=SWITCH_SEARCH_VERTICAL&keywords=data%20scientist\n",
      "LinkedIn Member Data Scientist https://www.linkedin.com/search/results/people/headless?origin=SWITCH_SEARCH_VERTICAL&keywords=data%20scientist\n",
      "LinkedIn Member Data scientist https://www.linkedin.com/search/results/people/headless?origin=SWITCH_SEARCH_VERTICAL&keywords=data%20scientist\n",
      "LinkedIn Member Data Scientist https://www.linkedin.com/search/results/people/headless?origin=SWITCH_SEARCH_VERTICAL&keywords=data%20scientist\n",
      "LinkedIn Member Data Scientist at Ford Motor Company https://www.linkedin.com/search/results/people/headless?origin=SWITCH_SEARCH_VERTICAL&keywords=data%20scientist\n",
      "LinkedIn Member Aspiring data scientist https://www.linkedin.com/search/results/people/headless?origin=SWITCH_SEARCH_VERTICAL&keywords=data%20scientist\n",
      "LinkedIn Member Aspiring Data Scientist https://www.linkedin.com/search/results/people/headless?origin=SWITCH_SEARCH_VERTICAL&keywords=data%20scientist\n"
     ]
    }
   ],
   "source": [
    "wait.until(EC.presence_of_element_located((By.CSS_SELECTOR, \".linked-area.flex-1.cursor-pointer\")))\n",
    "cards = driver.find_elements(By.CSS_SELECTOR, \".linked-area.flex-1.cursor-pointer\")\n",
    "\n",
    "profiles = []\n",
    "\n",
    "for card in cards:\n",
    "    # --- Nested selections within each card ---\n",
    "\n",
    "\n",
    "    try:\n",
    "        pre = card.find_element(By.CSS_SELECTOR, \".t-roman.t-sans\")\n",
    "        name_tag = pre.find_element(By.TAG_NAME,\"a\")\n",
    "        name = name_tag.text.strip()\n",
    "        profile_link = name_tag.get_attribute(\"href\")\n",
    "    except:\n",
    "        name, profile_link = None, None\n",
    "\n",
    "    try:\n",
    "        title = card.find_element(By.CSS_SELECTOR, \".t-14.t-black.t-normal\").text\n",
    "    except:\n",
    "        title = None\n",
    "\n",
    "\n",
    "\n",
    " \n",
    "    print(name, title, profile_link)\n",
    "    profiles.append({\n",
    "        \"name\": name,\n",
    "        \"title\": title,\n",
    "        \"profile_link\": profile_link\n",
    "    })\n",
    "\n",
    "json_output = json.dumps(profiles, indent=4)\n",
    "\n",
    "file_name = input(\"Enter the filename to save the profiles (e.g., profiles.json): \")\n",
    "with open(file_name+\".json\", \"w\") as f:\n",
    "    f.write(json_output)\n"
   ]
  }
 ],
 "metadata": {
  "kernelspec": {
   "display_name": "env",
   "language": "python",
   "name": "python3"
  },
  "language_info": {
   "codemirror_mode": {
    "name": "ipython",
    "version": 3
   },
   "file_extension": ".py",
   "mimetype": "text/x-python",
   "name": "python",
   "nbconvert_exporter": "python",
   "pygments_lexer": "ipython3",
   "version": "3.12.12"
  }
 },
 "nbformat": 4,
 "nbformat_minor": 5
}
