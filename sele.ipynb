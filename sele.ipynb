{
 "cells": [
  {
   "cell_type": "code",
   "execution_count": 11,
   "id": "c5e4dd2f",
   "metadata": {},
   "outputs": [
    {
     "name": "stdout",
     "output_type": "stream",
     "text": [
      "suppotiry@gmail.com systemsystem\n",
      "Collected 2 items\n",
      "1. 𝐁𝐢𝐧𝐚𝐫𝐲 𝐒𝐞𝐚𝐫𝐜𝐡 𝐬𝐮𝐜𝐜𝐞𝐬𝐬𝐟𝐮𝐥: 𝐅𝐨𝐮𝐧𝐝 𝐭𝐡𝐞 𝐩𝐞𝐫𝐟𝐞𝐜𝐭 𝐢𝐧𝐝𝐞𝐱 𝐟𝐨𝐫 𝐦𝐲 𝐧𝐞𝐱𝐭 𝐫𝐨𝐥𝐞. ✅\n",
      "\n",
      "I'm thrilled to share that I've joinedas a 𝐒𝐨𝐟𝐭𝐰𝐚𝐫𝐞 𝐄𝐧𝐠𝐢𝐧𝐞𝐞𝐫!\n",
      "\n",
      "The journey took recursive effort, solid base cases, and I’m ready\n",
      "2. Greetings from the School of Biosciences and Technology, SRM Institute of Science and Technology, Tiruchirappalli!\n",
      "We are thrilled to announce Future Food Forum 2025, a World Food Day celebration orga\n",
      "Driver session is still active. You can continue coding and interacting with the browser.\n"
     ]
    }
   ],
   "source": [
    "\n",
    "import os     \n",
    "import time\n",
    "from selenium import webdriver     \n",
    "from selenium.webdriver.common.by import By     \n",
    "from selenium.webdriver.support.ui import WebDriverWait     \n",
    "from selenium.webdriver.support import expected_conditions as EC     \n",
    "from webdriver_manager.chrome import ChromeDriverManager     \n",
    "from selenium.webdriver.chrome.service import Service     \n",
    "from selenium.webdriver.chrome.options import Options     \n",
    "from dotenv import load_dotenv  \n",
    "from selenium.webdriver.common.keys import Keys\n",
    "    \n",
    "# Load credentials from .env or environment     \n",
    "load_dotenv()     \n",
    "EMAIL = os.getenv('LINKEDIN_EMAIL')     \n",
    "PASSWORD = os.getenv('LINKEDIN_PASSWORD')   \n",
    "print(EMAIL, PASSWORD)  \n",
    "if not EMAIL or not PASSWORD:     \n",
    "    raise SystemExit('Set LINKEDIN_EMAIL and LINKEDIN_PASSWORD in env')     \n",
    "    \n",
    "# Chrome options (disable headless while developing because LinkedIn blocks headless sometimes)     \n",
    "opts = Options()     \n",
    "# opts.add_argument('--headless=new')   # enable later if needed\n",
    "opts.add_argument('--no-sandbox')\n",
    "opts.add_argument('--disable-dev-shm-usage')\n",
    "opts.add_argument('--window-size=1280,800') \n",
    "\n",
    "service = Service(ChromeDriverManager().install())\n",
    "driver = webdriver.Chrome(service=service, options=opts)\n",
    "wait = WebDriverWait(driver, 15)\n",
    "\n",
    "try:\n",
    "    driver.get('https://www.linkedin.com')\n",
    "    time.sleep(3)  # wait for page to load  \n",
    "    #now click on sign in button\n",
    "    wait.until(EC.element_to_be_clickable((By.LINK_TEXT, 'Sign in'))).click()\n",
    "    # Login\n",
    "    wait.until(EC.presence_of_element_located((By.ID, 'username'))).send_keys(EMAIL)\n",
    "    time.sleep(1.50)\n",
    "    driver.find_element(By.ID, 'password').send_keys(PASSWORD)\n",
    "    input()\n",
    "\n",
    "\n",
    "    input(\"Press Enter after you've completed any 2FA if prompted...\")\n",
    "    \n",
    "except Exception as e:\n",
    "    print(\"An error occurred:\", e)\n",
    "print(\"Driver session is still active. You can continue coding and interacting with the browser.\")"
   ]
  },
  {
   "cell_type": "code",
   "execution_count": 13,
   "id": "b5da1ba8",
   "metadata": {},
   "outputs": [],
   "source": [
    "## we will click search and then search for the keyword entered \n",
    "keyword = input(\"enter the keyword for the people you want to search for : \")\n",
    "#class=\"search-global-typeahead search-global-typeahead--semantic-rounded-search-box\n",
    "#         global-nav__search-typeahead\"\n",
    "wait.until(EC.element_to_be_clickable((By.CSS_SELECTOR, \"button.search-global-typeahead__collapsed-search-button\"))).click()\n",
    "search_box = wait.until(EC.visibility_of_element_located(\n",
    "    (By.CSS_SELECTOR, \"input.search-global-typeahead__input[aria-label='Search']\")))\n",
    "search_box.clear()\n",
    "search_box.send_keys(keyword)\n",
    "search_box.send_keys(Keys.ENTER)"
   ]
  },
  {
   "cell_type": "code",
   "execution_count": 17,
   "id": "64a8c66f",
   "metadata": {},
   "outputs": [],
   "source": [
    "wait.until(EC.element_to_be_clickable((By.CLASS_NAME, \"artdeco-pill.artdeco-pill--slate.artdeco-pill--choice.artdeco-pill--2.search-reusables__filter-pill-button\"))).click()"
   ]
  }
 ],
 "metadata": {
  "kernelspec": {
   "display_name": "env",
   "language": "python",
   "name": "python3"
  },
  "language_info": {
   "codemirror_mode": {
    "name": "ipython",
    "version": 3
   },
   "file_extension": ".py",
   "mimetype": "text/x-python",
   "name": "python",
   "nbconvert_exporter": "python",
   "pygments_lexer": "ipython3",
   "version": "3.12.12"
  }
 },
 "nbformat": 4,
 "nbformat_minor": 5
}
